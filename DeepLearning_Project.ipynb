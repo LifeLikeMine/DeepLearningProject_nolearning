{
  "metadata": {
    "language_info": {
      "codemirror_mode": {
        "name": "python",
        "version": 3
      },
      "file_extension": ".py",
      "mimetype": "text/x-python",
      "name": "python",
      "nbconvert_exporter": "python",
      "pygments_lexer": "ipython3",
      "version": "3.8"
    },
    "kernelspec": {
      "name": "python",
      "display_name": "Python (Pyodide)",
      "language": "python"
    }
  },
  "nbformat_minor": 4,
  "nbformat": 4,
  "cells": [
    {
      "cell_type": "code",
      "source": "import torch\ndevice = torch.device('cuda')\n",
      "metadata": {},
      "execution_count": null,
      "outputs": []
    },
    {
      "cell_type": "code",
      "source": "import torch\nfrom torch2trt import TRTModule\n\nmodel_trt = TRTModule()\nmodel_trt.load_state_dict(torch.load('best_steering_model_xy_trt.pth')) # Road Following 모델\n\nmodel_trt_collision = TRTModule()\nmodel_trt_collision.load_state_dict(torch.load('best_model_trt.pth')) # Collision Avoidance 모델\n",
      "metadata": {},
      "execution_count": null,
      "outputs": []
    },
    {
      "cell_type": "code",
      "source": "import torchvision.transforms as transforms\nimport torch.nn.functional as F\nimport cv2\nimport PIL.Image\nimport numpy as np\n\nmean = torch.Tensor([0.485, 0.456, 0.406]).cuda().half()\nstd = torch.Tensor([0.229, 0.224, 0.225]).cuda().half()\n\ndef preprocess(image):\n    image = PIL.Image.fromarray(image)\n    image = transforms.functional.to_tensor(image).to(device).half()\n    image.sub_(mean[:, None, None]).div_(std[:, None, None])\n    return image[None, ...]",
      "metadata": {},
      "execution_count": null,
      "outputs": []
    },
    {
      "cell_type": "code",
      "source": "from IPython.display import display\nimport ipywidgets\nimport traitlets\nfrom jetbot import Camera, bgr8_to_jpeg\n\ncamera = Camera.instance(width=224, height=224, fps=10)",
      "metadata": {},
      "execution_count": null,
      "outputs": []
    },
    {
      "cell_type": "code",
      "source": "image_widget = ipywidgets.Image()\n\ntraitlets.dlink((camera, 'value'), (image_widget, 'value'), transform=bgr8_to_jpeg)",
      "metadata": {},
      "execution_count": null,
      "outputs": []
    },
    {
      "cell_type": "code",
      "source": "from jetbot import Robot\n\nrobot = Robot()\n",
      "metadata": {},
      "execution_count": null,
      "outputs": []
    },
    {
      "cell_type": "code",
      "source": "#Road Following sliders\nspeed_control_slider = ipywidgets.FloatSlider(min=0.0, max=1.0, step=0.01, description='speed control')\nsteering_gain_slider = ipywidgets.FloatSlider(min=0.0, max=1.0, step=0.01, value=0.04, description='steering gain')\nsteering_dgain_slider = ipywidgets.FloatSlider(min=0.0, max=0.5, step=0.001, value=0.0, description='steering kd')\nsteering_bias_slider = ipywidgets.FloatSlider(min=-0.3, max=0.3, step=0.01, value=0.0, description='steering bias')\n\ndisplay(speed_control_slider, steering_gain_slider, steering_dgain_slider, steering_bias_slider)\n\n#Collision Avoidance sliders\nblocked_slider = ipywidgets.FloatSlider(min=0.0, max=1.0, orientation='horizontal', description='blocked')\nstopduration_slider= ipywidgets.IntSlider(min=1, max=1000, step=1, value=10, description='time for stop') \nblocked_threshold= ipywidgets.FloatSlider(min=0, max=1.0, step=0.01, value=0.8, description='blocked threshold')\n\ndisplay(image_widget)\n\ndisplay(ipywidgets.HBox([blocked_slider, blocked_threshold, stopduration_slider]))",
      "metadata": {},
      "execution_count": null,
      "outputs": []
    },
    {
      "cell_type": "code",
      "source": "import math\n\nangle = 0.0\nangle_last = 0.0\ncount_stops = 0\ngo_on = 1\nstop_time = 10 \nx = 0.0\ny = 0.0\nspeed_value = speed_control_slider.value\n\ndef execute(change):\n    global angle, angle_last, blocked_slider, robot, count_stops, stop_time, go_on, x, y, blocked_threshold\n    global speed_value, steer_gain, steer_dgain, steer_bias\n                \n    steer_gain = steering_gain_slider.value\n    steer_dgain = steering_dgain_slider.value\n    steer_bias = steering_bias_slider.value\n       \n    image_preproc = preprocess(change['new']).to(device)\n     \n    #Collision Avoidance 모델:\n    \n    prob_blocked = float(F.softmax(model_trt_collision(image_preproc), dim=1).flatten()[0])\n    \n    blocked_slider.value = prob_blocked    \n    stop_time=stopduration_slider.value\n    \n    if go_on == 1:    \n        if prob_blocked > blocked_threshold.value: \n            count_stops += 1\n            go_on = 2\n        else:\n            #road following 감지\n            go_on = 1\n            count_stops = 0\n            xy = model_trt(image_preproc).detach().float().cpu().numpy().flatten()        \n            x = xy[0]            \n            y = (0.5 - xy[1]) / 2.0\n            speed_value = speed_control_slider.value\n    else:\n        count_stops += 1\n        if count_stops < stop_time:\n            x = 0.0 \n            y = 0.0\n            speed_value = speed_control_slider.value\n            speed_value = speed_value/3 # 과속 방지턱 감지 시 속도 감소\n        else:\n            go_on = 1\n            count_stops = 0\n            \n    \n    angle = math.atan2(x, y)        \n    pid = angle * steer_gain + (angle - angle_last) * steer_dgain\n    steer_val = pid + steer_bias \n    angle_last = angle\n    robot.left_motor.value = max(min(speed_value + steer_val, 1.0), 0.0)\n    robot.right_motor.value = max(min(speed_value - steer_val, 1.0), 0.0) \n\nexecute({'new': camera.value})\n",
      "metadata": {},
      "execution_count": null,
      "outputs": []
    },
    {
      "cell_type": "code",
      "source": "camera.observe(execute, names='value')\n",
      "metadata": {},
      "execution_count": null,
      "outputs": []
    },
    {
      "cell_type": "code",
      "source": "import time\n\ncamera.unobserve(execute, names='value')\n\ntime.sleep(0.1)\n\nrobot.stop()\n\n",
      "metadata": {},
      "execution_count": null,
      "outputs": []
    }
  ]
}